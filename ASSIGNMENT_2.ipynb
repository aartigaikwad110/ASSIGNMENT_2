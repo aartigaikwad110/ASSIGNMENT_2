{
 "cells": [
  {
   "cell_type": "markdown",
   "id": "e0b2ba33-62dd-454c-ae70-c182a0a73f73",
   "metadata": {},
   "source": [
    "### 1.What are the two values of the Boolean data type? How do you write them?\n",
    "\n",
    "True & False"
   ]
  },
  {
   "cell_type": "markdown",
   "id": "e3f4b3bc-817d-46c7-a154-e122615bf1f3",
   "metadata": {},
   "source": [
    "### What are the three different types of Boolean operators?\n",
    "\n",
    "And , Or ,Not"
   ]
  },
  {
   "cell_type": "markdown",
   "id": "b3ff52b6-df24-4554-a7e8-3ad3cd71e500",
   "metadata": {},
   "source": [
    "### 3. Make a list of each Boolean operator truth tables (i.e. every possible combination of Boolean\n",
    "### values for the operator and what it evaluate ).\n",
    "\n"
   ]
  },
  {
   "cell_type": "markdown",
   "id": "5d498633-0f66-42b2-9b9e-9392f05e45c4",
   "metadata": {},
   "source": [
    "4. What are the values of the following expressions?\n",
    "(5 > 4) and (3 == 5) Ans- False\n",
    "not (5 > 4) Ans- False\n",
    "(5 > 4) or (3 == 5) Ans- True\n",
    "not ((5 > 4) or (3 == 5)) Ans- False\n",
    "(True and True) and (True == False) Ans- False\n",
    "(not False) or (not True)  Ans- True"
   ]
  },
  {
   "cell_type": "markdown",
   "id": "2b08dbdf-caed-4b35-99c8-87e156524a46",
   "metadata": {},
   "source": [
    "5. What are the six comparison operators?\n",
    "\n",
    "Ans : less than ( < )\n",
    "      less than or equal to ( <= ),\n",
    "      greater than ( > ), \n",
    "      greater than or equal to ( >= ),\n",
    "      equal to ( == ), \n",
    "      not equal to ( != )"
   ]
  },
  {
   "cell_type": "markdown",
   "id": "7524cf10-8752-4009-91ba-56e7603b8d8a",
   "metadata": {},
   "source": [
    "6. How do you tell the difference between the equal to and assignment operators?Describe a\n",
    "condition and when you would use one.\n",
    "\n",
    "Ans: Main difference between equal to = assignment and assignment operator is The assignment operator (operator =, with one equal sign) is not the same as the equality comparison operator (operator ==, with two equal signs); the first one ( =) assigns the value on the right-hand to the variable on its left, while the other ( ==) compares whether the values on both sides of the operator are equal"
   ]
  },
  {
   "cell_type": "code",
   "execution_count": null,
   "id": "04f35d06-e3cb-44bd-9bec-109552a55d57",
   "metadata": {},
   "outputs": [],
   "source": [
    "## Identify the three blocks in this code:\n",
    "spam = 0\n",
    "if spam == 10:\n",
    "   print('eggs')\n",
    "if spam >5 :\n",
    "   print('bacon')\n",
    "else:\n",
    "   print('ham')\n",
    "   print('spam')\n",
    "   print('spam')"
   ]
  },
  {
   "cell_type": "code",
   "execution_count": null,
   "id": "2153c69d-e283-4c18-ba85-c35375a98dd0",
   "metadata": {},
   "outputs": [],
   "source": [
    "##8. Write code that prints Hello if 1 is stored in spam, prints Howdy if 2 is stored in spam, and prints\n",
    "##Greetings! if anything else is stored in spam.\n",
    "\n",
    "spam =0\n",
    "if spam ==1 :\n",
    "   print('Hello')\n",
    "if spam ==2 :\n",
    "   print('Howdy')\n",
    "else:\n",
    "   print('Greetings')\n"
   ]
  },
  {
   "cell_type": "markdown",
   "id": "a1e78653-8da1-4511-904c-87cefd04bb43",
   "metadata": {},
   "source": [
    "## 9. If your programme is stuck in an endless loop, what keys you’ll press?\n",
    "\n",
    "Ans : Press the Alt key together with the Q key. Press the Control key together with the C key. Press the Control key together with the Q key. Press the Alt key together with the C key.\n",
    "\n",
    "\n"
   ]
  },
  {
   "cell_type": "markdown",
   "id": "2966b325-ba65-4b7a-a612-3f95b2e27d3b",
   "metadata": {},
   "source": [
    "10.How can you tell the difference between break and continue?\n",
    "\n",
    "Ans:Break statement is used to exit from loop. The continue statement is not used to exit from the loop. \n",
    "The break statement is usually used with the switch statement, and it can also use it within the while loop, do-while loop, or the for-loop\n",
    "Continue steatment is used to skip the steatment and continue the next "
   ]
  },
  {
   "cell_type": "markdown",
   "id": "77b18df9-d0d3-4ec1-9e3f-c1a6644e2dc9",
   "metadata": {},
   "source": [
    "## 11. In a for loop, what is the difference between range(10), range(0, 10), and range(0, 10, 1)?\n",
    "\n",
    "\n",
    "Ans : There is a no difference \n",
    "\n"
   ]
  },
  {
   "cell_type": "code",
   "execution_count": null,
   "id": "db692e18-b6cb-464e-afc5-c0d3175eec7f",
   "metadata": {},
   "outputs": [],
   "source": [
    "## 12. Write a short program that prints the numbers 1 to 10 using a for loop. Then write an equivalent\n",
    "##program that prints the numbers 1 to 10 using a while loop.\n",
    "\n",
    "for num in range(1, 11):\n",
    "    print(num)\n",
    "\n",
    "print(list(range(1, 11)))"
   ]
  },
  {
   "cell_type": "code",
   "execution_count": null,
   "id": "7dd92719-09b2-4b35-8840-12f3d42fabdd",
   "metadata": {},
   "outputs": [],
   "source": [
    "number = 1\n",
    "\n",
    "while number <= 10:\n",
    "    print(number)\n",
    "    number++"
   ]
  },
  {
   "cell_type": "markdown",
   "id": "9e503c1a-be92-4ae6-ad1c-e849e9011d18",
   "metadata": {},
   "source": [
    "## 13. If you had a function named bacon() inside a module named spam, how would you call it after\n",
    "## importing spam?\n",
    "\n",
    "Ans: "
   ]
  }
 ],
 "metadata": {
  "kernelspec": {
   "display_name": "Python 3 (ipykernel)",
   "language": "python",
   "name": "python3"
  },
  "language_info": {
   "codemirror_mode": {
    "name": "ipython",
    "version": 3
   },
   "file_extension": ".py",
   "mimetype": "text/x-python",
   "name": "python",
   "nbconvert_exporter": "python",
   "pygments_lexer": "ipython3",
   "version": "3.10.6"
  }
 },
 "nbformat": 4,
 "nbformat_minor": 5
}
